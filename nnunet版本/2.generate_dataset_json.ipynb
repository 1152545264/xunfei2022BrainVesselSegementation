{
 "cells": [
  {
   "cell_type": "code",
   "execution_count": 1,
   "id": "53bcf2e4",
   "metadata": {},
   "outputs": [
    {
     "name": "stdout",
     "output_type": "stream",
     "text": [
      "Looking in indexes: https://pypi.tuna.tsinghua.edu.cn/simple/\n",
      "Collecting hiddenlayer\n",
      "  Cloning https://github.com/nanohanno/hiddenlayer.git (to revision bugfix/get_trace_graph) to /tmp/pip-install-p07_cj44/hiddenlayer\n",
      "  Running command git clone -q https://github.com/nanohanno/hiddenlayer.git /tmp/pip-install-p07_cj44/hiddenlayer\n",
      "  Running command git checkout -b bugfix/get_trace_graph --track origin/bugfix/get_trace_graph\n",
      "  Switched to a new branch 'bugfix/get_trace_graph'\n",
      "  Branch 'bugfix/get_trace_graph' set up to track remote branch 'bugfix/get_trace_graph' from 'origin'.\n",
      "Building wheels for collected packages: hiddenlayer\n",
      "  Building wheel for hiddenlayer (setup.py) ... \u001b[?25ldone\n",
      "\u001b[?25h  Created wheel for hiddenlayer: filename=hiddenlayer-0.2-py3-none-any.whl size=19744 sha256=7144d399c486f3767c59b76aa43226a69b971be322483ff35ec82757ba65239e\n",
      "  Stored in directory: /tmp/pip-ephem-wheel-cache-qnvddvo4/wheels/e9/60/99/e593b68b59ae4d83fb29df66d9b14221b934c41f08d4d1a9ca\n",
      "Successfully built hiddenlayer\n",
      "Installing collected packages: hiddenlayer\n",
      "  Attempting uninstall: hiddenlayer\n",
      "    Found existing installation: hiddenlayer 0.2\n",
      "    Uninstalling hiddenlayer-0.2:\n",
      "      Successfully uninstalled hiddenlayer-0.2\n",
      "Successfully installed hiddenlayer-0.2\n",
      "Looking in indexes: https://pypi.tuna.tsinghua.edu.cn/simple/\n",
      "Requirement already up-to-date: nnunet in /home/gdyxy/.local/lib/python3.8/site-packages (1.7.0)\n",
      "Requirement already satisfied, skipping upgrade: medpy in /home/gdyxy/.local/lib/python3.8/site-packages (from nnunet) (0.4.0)\n",
      "Requirement already satisfied, skipping upgrade: batchgenerators>=0.23 in /home/gdyxy/.local/lib/python3.8/site-packages (from nnunet) (0.24)\n",
      "Requirement already satisfied, skipping upgrade: pandas in /home/gdyxy/.local/lib/python3.8/site-packages (from nnunet) (1.4.3)\n",
      "Requirement already satisfied, skipping upgrade: requests in /usr/lib/python3/dist-packages (from nnunet) (2.22.0)\n",
      "Requirement already satisfied, skipping upgrade: SimpleITK in /home/gdyxy/.local/lib/python3.8/site-packages (from nnunet) (2.1.1.2)\n",
      "Requirement already satisfied, skipping upgrade: scipy in /home/gdyxy/.local/lib/python3.8/site-packages (from nnunet) (1.8.1)\n",
      "Requirement already satisfied, skipping upgrade: tifffile in /home/gdyxy/.local/lib/python3.8/site-packages (from nnunet) (2022.5.4)\n",
      "Requirement already satisfied, skipping upgrade: dicom2nifti in /home/gdyxy/.local/lib/python3.8/site-packages (from nnunet) (2.4.2)\n",
      "Requirement already satisfied, skipping upgrade: numpy in /home/gdyxy/.local/lib/python3.8/site-packages (from nnunet) (1.23.1)\n",
      "Requirement already satisfied, skipping upgrade: scikit-image>=0.14 in /home/gdyxy/.local/lib/python3.8/site-packages (from nnunet) (0.19.3)\n",
      "Requirement already satisfied, skipping upgrade: sklearn in /home/gdyxy/.local/lib/python3.8/site-packages (from nnunet) (0.0)\n",
      "Requirement already satisfied, skipping upgrade: tqdm in /home/gdyxy/.local/lib/python3.8/site-packages (from nnunet) (4.64.0)\n",
      "Requirement already satisfied, skipping upgrade: nibabel in /home/gdyxy/.local/lib/python3.8/site-packages (from nnunet) (4.0.1)\n",
      "Requirement already satisfied, skipping upgrade: torch>=1.6.0a in /home/gdyxy/.local/lib/python3.8/site-packages (from nnunet) (1.12.0+cu116)\n",
      "Requirement already satisfied, skipping upgrade: threadpoolctl in /home/gdyxy/.local/lib/python3.8/site-packages (from batchgenerators>=0.23->nnunet) (3.1.0)\n",
      "Requirement already satisfied, skipping upgrade: unittest2 in /home/gdyxy/.local/lib/python3.8/site-packages (from batchgenerators>=0.23->nnunet) (1.1.0)\n",
      "Requirement already satisfied, skipping upgrade: scikit-learn in /home/gdyxy/.local/lib/python3.8/site-packages (from batchgenerators>=0.23->nnunet) (1.1.1)\n",
      "Requirement already satisfied, skipping upgrade: pillow>=7.1.2 in /home/gdyxy/.local/lib/python3.8/site-packages (from batchgenerators>=0.23->nnunet) (9.2.0)\n",
      "Requirement already satisfied, skipping upgrade: future in /usr/lib/python3/dist-packages (from batchgenerators>=0.23->nnunet) (0.18.2)\n",
      "Requirement already satisfied, skipping upgrade: pytz>=2020.1 in /home/gdyxy/.local/lib/python3.8/site-packages (from pandas->nnunet) (2022.1)\n",
      "Requirement already satisfied, skipping upgrade: python-dateutil>=2.8.1 in /home/gdyxy/.local/lib/python3.8/site-packages (from pandas->nnunet) (2.8.2)\n",
      "Requirement already satisfied, skipping upgrade: pydicom>=2.2.0 in /home/gdyxy/.local/lib/python3.8/site-packages (from dicom2nifti->nnunet) (2.3.0)\n",
      "Requirement already satisfied, skipping upgrade: python-gdcm in /home/gdyxy/.local/lib/python3.8/site-packages (from dicom2nifti->nnunet) (3.0.14)\n",
      "Requirement already satisfied, skipping upgrade: PyWavelets>=1.1.1 in /home/gdyxy/.local/lib/python3.8/site-packages (from scikit-image>=0.14->nnunet) (1.3.0)\n",
      "Requirement already satisfied, skipping upgrade: imageio>=2.4.1 in /home/gdyxy/.local/lib/python3.8/site-packages (from scikit-image>=0.14->nnunet) (2.19.3)\n",
      "Requirement already satisfied, skipping upgrade: packaging>=20.0 in /home/gdyxy/.local/lib/python3.8/site-packages (from scikit-image>=0.14->nnunet) (21.3)\n",
      "Requirement already satisfied, skipping upgrade: networkx>=2.2 in /home/gdyxy/.local/lib/python3.8/site-packages (from scikit-image>=0.14->nnunet) (2.8.4)\n",
      "Requirement already satisfied, skipping upgrade: setuptools in /usr/lib/python3/dist-packages (from nibabel->nnunet) (45.2.0)\n",
      "Requirement already satisfied, skipping upgrade: typing-extensions in /home/gdyxy/.local/lib/python3.8/site-packages (from torch>=1.6.0a->nnunet) (4.3.0)\n",
      "Requirement already satisfied, skipping upgrade: argparse in /home/gdyxy/.local/lib/python3.8/site-packages (from unittest2->batchgenerators>=0.23->nnunet) (1.4.0)\n",
      "Requirement already satisfied, skipping upgrade: traceback2 in /home/gdyxy/.local/lib/python3.8/site-packages (from unittest2->batchgenerators>=0.23->nnunet) (1.4.0)\n",
      "Requirement already satisfied, skipping upgrade: six>=1.4 in /usr/lib/python3/dist-packages (from unittest2->batchgenerators>=0.23->nnunet) (1.14.0)\n",
      "Requirement already satisfied, skipping upgrade: joblib>=1.0.0 in /home/gdyxy/.local/lib/python3.8/site-packages (from scikit-learn->batchgenerators>=0.23->nnunet) (1.1.0)\n",
      "Requirement already satisfied, skipping upgrade: pyparsing!=3.0.5,>=2.0.2 in /home/gdyxy/.local/lib/python3.8/site-packages (from packaging>=20.0->scikit-image>=0.14->nnunet) (3.0.9)\n",
      "Requirement already satisfied, skipping upgrade: linecache2 in /home/gdyxy/.local/lib/python3.8/site-packages (from traceback2->unittest2->batchgenerators>=0.23->nnunet) (1.0.0)\n"
     ]
    }
   ],
   "source": [
    "# %git clone https://github.com/MIC-DKFZ/nnUNet.git\n",
    "# %cd nnUNet\n",
    "# %pip install -e .\n",
    "! pip install --upgrade git+https://github.com/nanohanno/hiddenlayer.git@bugfix/get_trace_graph#egg=hiddenlayer\n",
    "! pip install --upgrade nnunet"
   ]
  },
  {
   "cell_type": "code",
   "execution_count": 3,
   "id": "941e23fb",
   "metadata": {},
   "outputs": [],
   "source": [
    "from glob import glob\n",
    "import os\n",
    "import re\n",
    "import json\n",
    "from collections import OrderedDict\n"
   ]
  },
  {
   "cell_type": "code",
   "execution_count": 4,
   "id": "ba72ceb9",
   "metadata": {},
   "outputs": [],
   "source": [
    "root_path = r'./data'\n",
    "path_label = os.path.join(root_path, 'labelsTr')\n",
    "path_train = os.path.join(root_path,'imagesTr')\n",
    "path_test = os.path.join(root_path,\"imagesTs\")"
   ]
  },
  {
   "cell_type": "code",
   "execution_count": 6,
   "id": "df5eb654",
   "metadata": {},
   "outputs": [
    {
     "ename": "ValueError",
     "evalue": "invalid literal for int() with base 10: 'XF'",
     "output_type": "error",
     "traceback": [
      "\u001b[0;31m---------------------------------------------------------------------------\u001b[0m",
      "\u001b[0;31mValueError\u001b[0m                                Traceback (most recent call last)",
      "\u001b[1;32m/media/gdyxy/DATA/Caiyimin/PythonProject/nnunetXunfie2022/2.generate_dataset_json.ipynb Cell 4\u001b[0m in \u001b[0;36m<cell line: 19>\u001b[0;34m()\u001b[0m\n\u001b[1;32m     <a href='vscode-notebook-cell:/media/gdyxy/DATA/Caiyimin/PythonProject/nnunetXunfie2022/2.generate_dataset_json.ipynb#ch0000003?line=16'>17</a>\u001b[0m renameFiles([path_train])\n\u001b[1;32m     <a href='vscode-notebook-cell:/media/gdyxy/DATA/Caiyimin/PythonProject/nnunetXunfie2022/2.generate_dataset_json.ipynb#ch0000003?line=17'>18</a>\u001b[0m renameFiles([path_label])\n\u001b[0;32m---> <a href='vscode-notebook-cell:/media/gdyxy/DATA/Caiyimin/PythonProject/nnunetXunfie2022/2.generate_dataset_json.ipynb#ch0000003?line=18'>19</a>\u001b[0m renameFiles([path_test])\n",
      "\u001b[1;32m/media/gdyxy/DATA/Caiyimin/PythonProject/nnunetXunfie2022/2.generate_dataset_json.ipynb Cell 4\u001b[0m in \u001b[0;36mrenameFiles\u001b[0;34m(paths)\u001b[0m\n\u001b[1;32m      <a href='vscode-notebook-cell:/media/gdyxy/DATA/Caiyimin/PythonProject/nnunetXunfie2022/2.generate_dataset_json.ipynb#ch0000003?line=8'>9</a>\u001b[0m     pos \u001b[39m=\u001b[39m name\u001b[39m.\u001b[39mfind(\u001b[39m'\u001b[39m\u001b[39m.\u001b[39m\u001b[39m'\u001b[39m)\n\u001b[1;32m     <a href='vscode-notebook-cell:/media/gdyxy/DATA/Caiyimin/PythonProject/nnunetXunfie2022/2.generate_dataset_json.ipynb#ch0000003?line=9'>10</a>\u001b[0m     name \u001b[39m=\u001b[39m name[:pos]\n\u001b[0;32m---> <a href='vscode-notebook-cell:/media/gdyxy/DATA/Caiyimin/PythonProject/nnunetXunfie2022/2.generate_dataset_json.ipynb#ch0000003?line=11'>12</a>\u001b[0m idx \u001b[39m=\u001b[39m \u001b[39mint\u001b[39;49m(name[\u001b[39m-\u001b[39;49m\u001b[39m2\u001b[39;49m:])\n\u001b[1;32m     <a href='vscode-notebook-cell:/media/gdyxy/DATA/Caiyimin/PythonProject/nnunetXunfie2022/2.generate_dataset_json.ipynb#ch0000003?line=12'>13</a>\u001b[0m name \u001b[39m=\u001b[39m \u001b[39m\"\u001b[39m\u001b[39mKDXF_\u001b[39m\u001b[39m%03d\u001b[39;00m\u001b[39m\"\u001b[39m \u001b[39m%\u001b[39m idx \u001b[39m+\u001b[39m \u001b[39m\"\u001b[39m\u001b[39m.nii.gz\u001b[39m\u001b[39m\"\u001b[39m\n\u001b[1;32m     <a href='vscode-notebook-cell:/media/gdyxy/DATA/Caiyimin/PythonProject/nnunetXunfie2022/2.generate_dataset_json.ipynb#ch0000003?line=13'>14</a>\u001b[0m os\u001b[39m.\u001b[39mrename(file, os\u001b[39m.\u001b[39mpath\u001b[39m.\u001b[39mjoin(path, name))\n",
      "\u001b[0;31mValueError\u001b[0m: invalid literal for int() with base 10: 'XF'"
     ]
    }
   ],
   "source": [
    "def renameFiles(paths):\n",
    "    for path in paths:\n",
    "        files = glob(os.path.join(path, \"*.nii.gz\"))\n",
    "        for file in files:\n",
    "            name = file.split('/')[-1]\n",
    "            if name.find('_') != -1:\n",
    "                name = name.split('_')[0]\n",
    "            else:\n",
    "                pos = name.find('.')\n",
    "                name = name[:pos]\n",
    "                \n",
    "            idx = int(name[-2:])\n",
    "            name = \"KDXF_%03d\" % idx + \".nii.gz\"\n",
    "            os.rename(file, os.path.join(path, name))\n",
    "\n",
    "\n",
    "# renameFiles([path_train])\n",
    "# renameFiles([path_label])\n",
    "# renameFiles([path_test])\n"
   ]
  },
  {
   "cell_type": "code",
   "execution_count": 7,
   "id": "fb668158",
   "metadata": {},
   "outputs": [
    {
     "name": "stdout",
     "output_type": "stream",
     "text": [
      "20\n"
     ]
    }
   ],
   "source": [
    "\n",
    "# g = os.walk(path_label)\n",
    "\n",
    "# patient_list = []\n",
    "# number = 0\n",
    "# for path,dir_list,file_list in g:\n",
    "#     for file_name in file_list:\n",
    "#         number += 1\n",
    "#         #print(os.path.join(path, file_name).split('/')[-1].split('-')[0])\n",
    "#         patient_list.append(os.path.join(path, file_name).split('/')[-1])\n",
    "# print(number)\n",
    "\n",
    "patient_list = glob(os.path.join(path_label, \"*.nii.gz\"))\n",
    "patient_list = [it.split(\"/\")[-1] for it in patient_list]\n",
    "number = len(patient_list)\n",
    "print(number)\n"
   ]
  },
  {
   "cell_type": "code",
   "execution_count": 8,
   "id": "807d6fca",
   "metadata": {},
   "outputs": [
    {
     "name": "stdout",
     "output_type": "stream",
     "text": [
      "['KDXF_001.nii.gz', 'KDXF_002.nii.gz', 'KDXF_003.nii.gz', 'KDXF_004.nii.gz', 'KDXF_005.nii.gz', 'KDXF_006.nii.gz', 'KDXF_007.nii.gz', 'KDXF_008.nii.gz', 'KDXF_009.nii.gz', 'KDXF_010.nii.gz', 'KDXF_011.nii.gz', 'KDXF_012.nii.gz', 'KDXF_013.nii.gz', 'KDXF_014.nii.gz', 'KDXF_015.nii.gz', 'KDXF_016.nii.gz', 'KDXF_017.nii.gz', 'KDXF_018.nii.gz', 'KDXF_019.nii.gz', 'KDXF_020.nii.gz']\n"
     ]
    }
   ],
   "source": [
    "print(patient_list)"
   ]
  },
  {
   "cell_type": "code",
   "execution_count": 9,
   "id": "6f0259af",
   "metadata": {},
   "outputs": [
    {
     "name": "stdout",
     "output_type": "stream",
     "text": [
      "10\n",
      "['KDXF_001.nii.gz', 'KDXF_002.nii.gz', 'KDXF_003.nii.gz', 'KDXF_004.nii.gz', 'KDXF_005.nii.gz', 'KDXF_006.nii.gz', 'KDXF_007.nii.gz', 'KDXF_008.nii.gz', 'KDXF_009.nii.gz', 'KDXF_010.nii.gz']\n"
     ]
    }
   ],
   "source": [
    "\n",
    "# g = os.walk(path_test)  \n",
    "\n",
    "# patient_list2 = []\n",
    "# for path,dir_list,file_list in g:  \n",
    "#     for file_name in file_list: \n",
    "#         number += 1 \n",
    "#         print(os.path.join(path, file_name).split('/')[-1].split('-')[0])\n",
    "#         patient_list2.append(os.path.join(path, file_name).split('/')[-1].split('_0000')[0]+'.nii.gz')\n",
    "# print(patient_list2)\n",
    "\n",
    "patient_list2 = glob(os.path.join(path_test, \"*.nii.gz\"))\n",
    "patient_list2 = [it.split(\"/\")[-1] for it in patient_list2]\n",
    "number = len(patient_list2)\n",
    "print(number)\n",
    "print(patient_list2)\n"
   ]
  },
  {
   "cell_type": "code",
   "execution_count": 10,
   "id": "cc3b82fd",
   "metadata": {},
   "outputs": [],
   "source": [
    "json_dict = OrderedDict()\n",
    "json_dict['name'] = \"XF2022\"\n",
    "json_dict['description'] = \"KDXF copyright\"\n",
    "json_dict['tensorImageSize'] = \"4D\"\n",
    "json_dict['reference'] = \"see KDXF2022\"\n",
    "json_dict['licence'] = \"see KDXF2022\"\n",
    "json_dict['release'] = \"0.0\"\n",
    "json_dict['modality'] = {\n",
    "    \"0\": \"CT\"\n",
    "}\n",
    "\n",
    "json_dict['labels'] = {\n",
    "    \"0\": \"background\",\n",
    "    \"1\": \"blood\"\n",
    "}\n",
    "\n",
    "json_dict['numTraining'] = len(patient_list)\n",
    "json_dict['numTest'] = len(patient_list2)\n",
    "json_dict['training'] = [\n",
    "    {\n",
    "        'image': f\"./imagesTr/{i}\",\n",
    "        \"label\": f\"./labelsTr/{i}\"\n",
    "    }\n",
    "    for i in patient_list]\n",
    "json_dict['test'] = [f\"./imagesTs/{i}\" for i in patient_list2]\n",
    "\n",
    "with open(os.path.join(root_path,'dataset.json'), 'w', encoding='utf-8') as f:\n",
    "    json.dump(json_dict, f, ensure_ascii=False, indent=4)\n"
   ]
  }
 ],
 "metadata": {
  "kernelspec": {
   "display_name": "Python 3.8.10 64-bit",
   "language": "python",
   "name": "python3"
  },
  "language_info": {
   "codemirror_mode": {
    "name": "ipython",
    "version": 3
   },
   "file_extension": ".py",
   "mimetype": "text/x-python",
   "name": "python",
   "nbconvert_exporter": "python",
   "pygments_lexer": "ipython3",
   "version": "3.8.10"
  },
  "vscode": {
   "interpreter": {
    "hash": "916dbcbb3f70747c44a77c7bcd40155683ae19c65e1c03b4aa3499c5328201f1"
   }
  }
 },
 "nbformat": 4,
 "nbformat_minor": 5
}
